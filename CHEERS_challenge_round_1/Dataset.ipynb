{
 "cells": [
  {
   "cell_type": "code",
   "execution_count": 89,
   "metadata": {},
   "outputs": [],
   "source": [
    "import numpy as np\n",
    "from pathlib import Path\n",
    "import pandas as pd\n",
    "from torch.utils.data import Dataset, DataLoader"
   ]
  },
  {
   "cell_type": "code",
   "execution_count": 9,
   "metadata": {},
   "outputs": [],
   "source": [
    "DATA = Path(\"CHEERS_challenge_round_1\") # directory of the data\n",
    "TRAIN = Path(\"sentences_en_train.csv\") # file of the data"
   ]
  },
  {
   "cell_type": "code",
   "execution_count": 208,
   "metadata": {},
   "outputs": [],
   "source": [
    "class SentenceSet(Dataset):\n",
    "    \"\"\"Base dataset\"\"\"\n",
    "    def __init__(self, path, preproc_func, ret_func):\n",
    "        \"\"\"\n",
    "           path: path to the file\n",
    "           preproc_func: the preprocessing function applied to the raw dataset\n",
    "           ret_func: determines which features are returned\n",
    "        \"\"\"\n",
    "        super(SentenceSet, self).__init__()\n",
    "        self.path = path\n",
    "        self.ret_func = ret_func\n",
    "        self.data = preproc_func(self.path)\n",
    "        \n",
    "    def __len__(self):\n",
    "        return len(self.data)\n",
    "    \n",
    "    def __getitem__(self, idx):\n",
    "        return self.ret_func(self.data.iloc[idx])"
   ]
  },
  {
   "cell_type": "code",
   "execution_count": 209,
   "metadata": {},
   "outputs": [],
   "source": [
    "train_set = SentenceSet(DATA / TRAIN, pd.read_csv, lambda x: x)"
   ]
  },
  {
   "cell_type": "code",
   "execution_count": 210,
   "metadata": {},
   "outputs": [
    {
     "data": {
      "text/plain": [
       "doc_id                                                       51657\n",
       "sentence_id                                                      0\n",
       "sentence_text    New Salesian youth center in La Cecilia distri...\n",
       "is_relevant                                                      0\n",
       "sector_ids                                                      []\n",
       "Name: 0, dtype: object"
      ]
     },
     "execution_count": 210,
     "metadata": {},
     "output_type": "execute_result"
    }
   ],
   "source": [
    "train_set[0]"
   ]
  }
 ],
 "metadata": {
  "kernelspec": {
   "display_name": "Python 3",
   "language": "python",
   "name": "python3"
  },
  "language_info": {
   "codemirror_mode": {
    "name": "ipython",
    "version": 3
   },
   "file_extension": ".py",
   "mimetype": "text/x-python",
   "name": "python",
   "nbconvert_exporter": "python",
   "pygments_lexer": "ipython3",
   "version": "3.8.5"
  }
 },
 "nbformat": 4,
 "nbformat_minor": 4
}
