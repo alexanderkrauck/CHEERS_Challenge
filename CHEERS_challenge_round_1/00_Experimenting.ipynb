{
 "cells": [
  {
   "cell_type": "code",
   "execution_count": 8,
   "id": "palestinian-cream",
   "metadata": {},
   "outputs": [
    {
     "name": "stdout",
     "output_type": "stream",
     "text": [
      "Output run file is saved at runs/en_val_baseline_random.csv\n"
     ]
    }
   ],
   "source": [
    "%run create_random_baseline.py"
   ]
  },
  {
   "cell_type": "code",
   "execution_count": 9,
   "id": "fossil-drive",
   "metadata": {},
   "outputs": [
    {
     "name": "stdout",
     "output_type": "stream",
     "text": [
      "Macro-averaged F1 score for is_relevant variable is: 49.76\n",
      "Accuracy for sector_ids variable is: 44.57\n",
      "HumImpact Score is: 47.17\n",
      "{'relevance_f1_score_macro': 0.49764958343808857, 'sectorids_accuracy': 0.44566666666666743, 'HumImpact': 0.47165812505237803}\n"
     ]
    }
   ],
   "source": [
    "%run evaluation --ground-truth-path data_round_1/sentences_en_val.csv --runfile-path runs/en_val_baseline_random.csv"
   ]
  },
  {
   "cell_type": "markdown",
   "id": "auburn-carrier",
   "metadata": {},
   "source": [
    "# 1 Imports and Load Files"
   ]
  },
  {
   "cell_type": "code",
   "execution_count": 112,
   "id": "heated-massachusetts",
   "metadata": {},
   "outputs": [],
   "source": [
    "import numpy as np\n",
    "import pandas as pd\n",
    "import matplotlib.pyplot as plt\n",
    "from IPython.display import display, HTML\n",
    "import os\n",
    "from ast import literal_eval\n",
    "import itertools\n",
    "from urllib.parse import urlparse\n"
   ]
  },
  {
   "cell_type": "code",
   "execution_count": 17,
   "id": "searching-coalition",
   "metadata": {},
   "outputs": [
    {
     "data": {
      "text/html": [
       "<table border=\"1\" class=\"dataframe\">\n",
       "  <thead>\n",
       "    <tr style=\"text-align: right;\">\n",
       "      <th></th>\n",
       "      <th>project_name</th>\n",
       "      <th>country_code</th>\n",
       "      <th>lang_code</th>\n",
       "      <th>doc_text</th>\n",
       "      <th>doc_url</th>\n",
       "    </tr>\n",
       "    <tr>\n",
       "      <th>doc_id</th>\n",
       "      <th></th>\n",
       "      <th></th>\n",
       "      <th></th>\n",
       "      <th></th>\n",
       "      <th></th>\n",
       "    </tr>\n",
       "  </thead>\n",
       "  <tbody>\n",
       "    <tr>\n",
       "      <th>48582</th>\n",
       "      <td>IMMAP/DFS Syria</td>\n",
       "      <td>SYR</td>\n",
       "      <td>en</td>\n",
       "      <td>This website uses cookies to improve your experience. We'll assume you're ok with this, but you can opt-out if you wish.Accept</td>\n",
       "      <td>https://www.syriahr.com/en/203844/</td>\n",
       "    </tr>\n",
       "    <tr>\n",
       "      <th>41032</th>\n",
       "      <td>IMMAP/DFS Syria</td>\n",
       "      <td>SYR</td>\n",
       "      <td>en</td>\n",
       "      <td>Please enable Cookies and reload the page.\\n\\nThis process is automatic. Your browser will redirect to your requested content shortly.\\n\\nPlease allow up to 5 seconds…</td>\n",
       "      <td>https://www.syriahr.com/en/187230/</td>\n",
       "    </tr>\n",
       "  </tbody>\n",
       "</table>"
      ],
      "text/plain": [
       "<IPython.core.display.HTML object>"
      ]
     },
     "metadata": {},
     "output_type": "display_data"
    },
    {
     "data": {
      "text/html": [
       "<table border=\"1\" class=\"dataframe\">\n",
       "  <thead>\n",
       "    <tr style=\"text-align: right;\">\n",
       "      <th></th>\n",
       "      <th></th>\n",
       "      <th>sentence_text</th>\n",
       "      <th>is_relevant</th>\n",
       "      <th>sector_ids</th>\n",
       "    </tr>\n",
       "    <tr>\n",
       "      <th>doc_id</th>\n",
       "      <th>sentence_id</th>\n",
       "      <th></th>\n",
       "      <th></th>\n",
       "      <th></th>\n",
       "    </tr>\n",
       "  </thead>\n",
       "  <tbody>\n",
       "    <tr>\n",
       "      <th rowspan=\"2\" valign=\"top\">51657</th>\n",
       "      <th>0</th>\n",
       "      <td>New Salesian youth center in La Cecilia district serves more than 100 youth (MissionNewswire) Salesian missionaries have opened a youth center in the La Cecilia district of Armenia, Colombia.</td>\n",
       "      <td>0</td>\n",
       "      <td>[]</td>\n",
       "    </tr>\n",
       "    <tr>\n",
       "      <th>1</th>\n",
       "      <td>Armenia is at the center of the Colombian coffee growing axis.</td>\n",
       "      <td>0</td>\n",
       "      <td>[]</td>\n",
       "    </tr>\n",
       "  </tbody>\n",
       "</table>"
      ],
      "text/plain": [
       "<IPython.core.display.HTML object>"
      ]
     },
     "metadata": {},
     "output_type": "display_data"
    }
   ],
   "source": [
    "data_location = \"data_round_1\"\n",
    "train_documents = pd.read_csv(os.path.join(data_location,\"documents_en_train.csv\"), index_col=\"doc_id\")\n",
    "validation_documents = pd.read_csv(os.path.join(data_location,\"documents_en_val.csv\"), index_col=\"doc_id\")\n",
    "test_documents = pd.read_csv(os.path.join(data_location,\"documents_en_test.csv\"), index_col=\"doc_id\")\n",
    "        \n",
    "\n",
    "train_sentences = pd.read_csv(os.path.join(data_location,\"sentences_en_train.csv\"), converters={'sector_ids': literal_eval}, index_col=[\"doc_id\",\"sentence_id\"])\n",
    "validation_sentences = pd.read_csv(os.path.join(data_location,\"sentences_en_val.csv\"), converters={'sector_ids': literal_eval}, index_col=[\"doc_id\",\"sentence_id\"])\n",
    "test_sentences = pd.read_csv(os.path.join(data_location,\"sentences_en_test.csv\"), converters={'sector_ids': literal_eval}, index_col=[\"doc_id\",\"sentence_id\"])\n",
    "\n",
    "display(HTML(train_documents.head(2).to_html()))\n",
    "display(HTML(train_sentences.head(2).to_html()))"
   ]
  },
  {
   "cell_type": "markdown",
   "id": "checked-headline",
   "metadata": {},
   "source": [
    "# 2 Document Statistics"
   ]
  },
  {
   "cell_type": "code",
   "execution_count": 57,
   "id": "planned-pencil",
   "metadata": {},
   "outputs": [
    {
     "name": "stdout",
     "output_type": "stream",
     "text": [
      "Length (chars) of a document (train): Mean: 16438.691326530614, Min: 26, Max: 1181981\n",
      "Length (chars) of a document (validation): Mean: 19951.268221574344, Min: 126, Max: 962293\n",
      "Length (chars) of a document (test): Mean: 23002.349854227406, Min: 14, Max: 2011127\n"
     ]
    },
    {
     "data": {
      "image/png": "[encoded data removed]",
      "text/plain": [
       "<Figure size 1440x504 with 3 Axes>"
      ]
     },
     "metadata": {
      "needs_background": "light"
     },
     "output_type": "display_data"
    }
   ],
   "source": [
    "train_document_length = train_documents.doc_text.apply(len)\n",
    "validation_document_length = validation_documents.doc_text.apply(len)\n",
    "test_document_length = test_documents.doc_text.apply(len)\n",
    "\n",
    "\n",
    "print(f\"Length (chars) of a document (train): Mean: {train_document_length.mean()}, Min: {train_document_length.min()}, Max: {train_document_length.max()}\")\n",
    "print(f\"Length (chars) of a document (validation): Mean: {validation_document_length.mean()}, Min: {validation_document_length.min()}, Max: {validation_document_length.max()}\")\n",
    "print(f\"Length (chars) of a document (test): Mean: {test_document_length.mean()}, Min: {test_document_length.min()}, Max: {test_document_length.max()}\")\n",
    "\n",
    "fig, axs = plt.subplots(ncols=3, figsize=(20,7))\n",
    "train_document_length.hist(bins=200, density=True, ax = axs[0])\n",
    "axs[0].set_title(\"Train Document Length Histogram\")\n",
    "validation_document_length.hist(bins=200, density=True, ax = axs[1])\n",
    "axs[1].set_title(\"Validation Document Length Histogram\")\n",
    "test_document_length.hist(bins=200, density=True, ax = axs[2])\n",
    "axs[2].set_title(\"Test Document Length Histogram\")\n",
    "plt.show()"
   ]
  },
  {
   "cell_type": "markdown",
   "id": "extended-upper",
   "metadata": {},
   "source": [
    "## Observations\n",
    "\n",
    "- The document lenghts distributions are not equal but not too far away, all three datasets follow roughly an exponential distribution"
   ]
  },
  {
   "cell_type": "markdown",
   "id": "massive-philip",
   "metadata": {},
   "source": [
    "# 3 Sentence Statistics"
   ]
  },
  {
   "cell_type": "code",
   "execution_count": 18,
   "id": "valued-facing",
   "metadata": {},
   "outputs": [
    {
     "name": "stdout",
     "output_type": "stream",
     "text": [
      "Length (chars) of a sentences (train): Mean: 167.48889423278789, Min: 1, Max: 46479\n",
      "Length (chars) of a sentences (validation): Mean: 180.66339701959095, Min: 1, Max: 15397\n",
      "Length (chars) of a sentences (test): Mean: 134.71945174548856, Min: 1, Max: 47150\n"
     ]
    },
    {
     "data": {
      "image/png": "[encoded data removed]",
      "text/plain": [
       "<Figure size 1440x504 with 3 Axes>"
      ]
     },
     "metadata": {
      "needs_background": "light"
     },
     "output_type": "display_data"
    }
   ],
   "source": [
    "train_sentences_length = train_sentences.sentence_text.apply(len)\n",
    "validation_sentences_length = validation_sentences.sentence_text.apply(len)\n",
    "test_sentences_length = test_sentences.sentence_text.apply(len)\n",
    "\n",
    "\n",
    "print(f\"Length (chars) of a sentences (train): Mean: {train_sentences_length.mean()}, Min: {train_sentences_length.min()}, Max: {train_sentences_length.max()}\")\n",
    "print(f\"Length (chars) of a sentences (validation): Mean: {validation_sentences_length.mean()}, Min: {validation_sentences_length.min()}, Max: {validation_sentences_length.max()}\")\n",
    "print(f\"Length (chars) of a sentences (test): Mean: {test_sentences_length.mean()}, Min: {test_sentences_length.min()}, Max: {test_sentences_length.max()}\")\n",
    "\n",
    "fig, axs = plt.subplots(ncols=3, figsize=(20,7))\n",
    "train_sentences_length.hist(bins=200, density=True, ax = axs[0])\n",
    "axs[0].set_title(\"Train Sentence Length Histogram\")\n",
    "validation_sentences_length.hist(bins=200, density=True, ax = axs[1])\n",
    "axs[1].set_title(\"Validation Sentence Length Histogram\")\n",
    "test_sentences_length.hist(bins=200, density=True, ax = axs[2])\n",
    "axs[2].set_title(\"Test Sentence Length Histogram\")\n",
    "plt.show()"
   ]
  },
  {
   "cell_type": "code",
   "execution_count": 50,
   "id": "declared-haven",
   "metadata": {},
   "outputs": [
    {
     "name": "stdout",
     "output_type": "stream",
     "text": [
      "Number of sentences (train): 261981, Thereof relevant (%): 0.190357405741392, Of relevant has (>=1) section id: 0.7097983052870271\n",
      "Number of sentences (validation): 37109, Thereof relevant (%): 0.1530980050960164, Of relevant has (>=1) section id: 0.7012380759082606\n",
      "Number of sentences (test): 56689, (no label data)\n",
      "\n",
      "Mean lenght of sector_ids (train): 0.24148697806329467\n",
      "Mean lenght of sector_ids (validation): 0.129375623164192\n"
     ]
    },
    {
     "data": {
      "image/png": "[encoded data removed]",
      "text/plain": [
       "<Figure size 1296x432 with 2 Axes>"
      ]
     },
     "metadata": {
      "needs_background": "light"
     },
     "output_type": "display_data"
    }
   ],
   "source": [
    "print(f\"Number of sentences (train): {len(train_sentences)},\\\n",
    " Thereof relevant (%): {train_sentences.is_relevant.sum()/(len(train_sentences)-train_sentences.is_relevant.sum())},\\\n",
    " Of relevant has (>=1) section id: {train_sentences.sector_ids[train_sentences.sector_ids.apply(len) > 0].count() / train_sentences.is_relevant.sum()}\")\n",
    "\n",
    "print(f\"Number of sentences (validation): {len(validation_sentences)},\\\n",
    " Thereof relevant (%): {validation_sentences.is_relevant.sum()/(len(validation_sentences)-validation_sentences.is_relevant.sum())},\\\n",
    " Of relevant has (>=1) section id: {validation_sentences.sector_ids[validation_sentences.sector_ids.apply(len) > 0].count() / validation_sentences.is_relevant.sum()}\")\n",
    "\n",
    "print(f\"Number of sentences (test): {len(test_sentences)},\\\n",
    " (no label data)\")\n",
    "print()\n",
    "print(f\"Mean lenght of sector_ids (train): {train_sentences.sector_ids.apply(len).mean()}\")\n",
    "print(f\"Mean lenght of sector_ids (validation): {validation_sentences.sector_ids.apply(len).mean()}\")\n",
    "fig, axs = plt.subplots(ncols=2,figsize=(18,6))\n",
    "axs[0].hist(list(itertools.chain.from_iterable(train_sentences.sector_ids.to_list())))\n",
    "axs[0].set_title(\"Train Sentences\")\n",
    "axs[1].hist(list(itertools.chain.from_iterable(validation_sentences.sector_ids.to_list())))\n",
    "axs[1].set_title(\"Validation Sentences\")\n",
    "plt.show()"
   ]
  },
  {
   "cell_type": "markdown",
   "id": "ranking-allowance",
   "metadata": {},
   "source": [
    "## Observations\n",
    "\n",
    "- The sentence length distribution is not equal but also not too far away, all three datasets follow roughly an exponential distribution.\n",
    "- The Relevance distribution betwenn the train set and the validation set is similar.\n",
    "- The Validation set has a different distribution in sentence section ids than the training set."
   ]
  },
  {
   "cell_type": "markdown",
   "id": "statistical-algeria",
   "metadata": {},
   "source": [
    "# 4 Other Statistics"
   ]
  },
  {
   "cell_type": "code",
   "execution_count": 125,
   "id": "enabling-paint",
   "metadata": {},
   "outputs": [
    {
     "name": "stdout",
     "output_type": "stream",
     "text": [
      "{'NGA', 'BGD', 'COL', 'BFA', 'COD', 'SYR'}\n",
      "{'IMMAP/DFS Syria', 'IMMAP/DFS Colombia', 'IMMAP/DFS RDC', 'IMMAP/DFS Bangladesh', 'IMMAP/DFS Nigeria', 'IMMAP/DFS Burkina Faso'}\n",
      "{'en'}\n"
     ]
    },
    {
     "data": {
      "text/plain": [
       "151"
      ]
     },
     "execution_count": 125,
     "metadata": {},
     "output_type": "execute_result"
    },
    {
     "data": {
      "image/png": "[encoded data removed]",
      "text/plain": [
       "<Figure size 432x288 with 1 Axes>"
      ]
     },
     "metadata": {
      "needs_background": "light"
     },
     "output_type": "display_data"
    }
   ],
   "source": [
    "print(set(train_documents[\"country_code\"]))\n",
    "print(set(train_documents[\"project_name\"]))\n",
    "print(set(train_documents[\"lang_code\"]))\n",
    "\n",
    "train_documents.groupby(by='doc_url')[\"doc_url\"].transform('count').hist()\n",
    "\n",
    "train_documents[\"doc_url\"].fillna(\"\", inplace=True)\n",
    "len(set(train_documents[\"doc_url\"].apply(lambda x: urlparse(x).netloc)))"
   ]
  },
  {
   "cell_type": "code",
   "execution_count": 127,
   "id": "general-treasurer",
   "metadata": {},
   "outputs": [
    {
     "name": "stdout",
     "output_type": "stream",
     "text": [
      "{'NGA', 'BGD', 'COL', 'BFA', 'COD', 'SYR'}\n",
      "{'IMMAP/DFS Syria', 'IMMAP/DFS Colombia', 'IMMAP/DFS RDC', 'IMMAP/DFS Bangladesh', 'IMMAP/DFS Nigeria', 'IMMAP/DFS Burkina Faso'}\n",
      "{'en'}\n"
     ]
    },
    {
     "data": {
      "text/plain": [
       "46"
      ]
     },
     "execution_count": 127,
     "metadata": {},
     "output_type": "execute_result"
    },
    {
     "data": {
      "image/png": "[encoded data removed]",
      "text/plain": [
       "<Figure size 432x288 with 1 Axes>"
      ]
     },
     "metadata": {
      "needs_background": "light"
     },
     "output_type": "display_data"
    }
   ],
   "source": [
    "print(set(validation_documents[\"country_code\"]))\n",
    "print(set(validation_documents[\"project_name\"]))\n",
    "print(set(validation_documents[\"lang_code\"]))\n",
    "\n",
    "validation_documents.groupby(by='doc_url')[\"doc_url\"].transform('count').hist()\n",
    "\n",
    "validation_documents[\"doc_url\"].fillna(\"\", inplace=True)\n",
    "len(set(validation_documents[\"doc_url\"].apply(lambda x: urlparse(x).netloc)))"
   ]
  },
  {
   "cell_type": "code",
   "execution_count": 128,
   "id": "synthetic-progress",
   "metadata": {},
   "outputs": [
    {
     "name": "stdout",
     "output_type": "stream",
     "text": [
      "{'NGA', 'BGD', 'COL', 'BFA', 'COD', 'SYR'}\n",
      "{'IMMAP/DFS Syria', 'IMMAP/DFS Colombia', 'IMMAP/DFS RDC', 'IMMAP/DFS Bangladesh', 'IMMAP/DFS Nigeria', 'IMMAP/DFS Burkina Faso'}\n",
      "{'en'}\n"
     ]
    },
    {
     "data": {
      "text/plain": [
       "46"
      ]
     },
     "execution_count": 128,
     "metadata": {},
     "output_type": "execute_result"
    },
    {
     "data": {
      "image/png": "[encoded data removed]",
      "text/plain": [
       "<Figure size 432x288 with 1 Axes>"
      ]
     },
     "metadata": {
      "needs_background": "light"
     },
     "output_type": "display_data"
    }
   ],
   "source": [
    "print(set(test_documents[\"country_code\"]))\n",
    "print(set(test_documents[\"project_name\"]))\n",
    "print(set(test_documents[\"lang_code\"]))\n",
    "\n",
    "test_documents.groupby(by='doc_url')[\"doc_url\"].transform('count').hist()\n",
    "\n",
    "test_documents[\"doc_url\"].fillna(\"\", inplace=True)\n",
    "len(set(test_documents[\"doc_url\"].apply(lambda x: urlparse(x).netloc)))"
   ]
  },
  {
   "cell_type": "markdown",
   "id": "underlying-unknown",
   "metadata": {},
   "source": [
    "## Observations\n",
    "\n",
    "- It makes sense to ignore the acual content of the features \"country_code\" and \"project\" name and just replace them by indices\n",
    "- Since \"en\" is the only existing lang code, this feature can be removed alltogether"
   ]
  },
  {
   "cell_type": "markdown",
   "id": "colored-tribune",
   "metadata": {},
   "source": [
    "# 5 Sentence document cleanness relation"
   ]
  },
  {
   "cell_type": "code",
   "execution_count": 35,
   "id": "false-turkish",
   "metadata": {},
   "outputs": [
    {
     "name": "stdout",
     "output_type": "stream",
     "text": [
      "75.02405247813411\n"
     ]
    },
    {
     "data": {
      "image/png": "[encoded data removed]",
      "text/plain": [
       "<Figure size 1440x720 with 1 Axes>"
      ]
     },
     "metadata": {
      "needs_background": "light"
     },
     "output_type": "display_data"
    }
   ],
   "source": [
    "n_sent_diffs = []\n",
    "for doc in train_documents.iterrows():\n",
    "    n_sent = len(train_sentences.loc[doc[0], \"sentence_text\"])\n",
    "    n_doc_sent = len(doc[1][\"doc_text\"].split(\".\"))\n",
    "    n_sent_diffs.append(n_doc_sent - n_sent)\n",
    "\n",
    "n_sent_diffs = np.array(n_sent_diffs)\n",
    "print(np.mean(n_sent_diffs))\n",
    "plt.subplots(figsize=(20,10))\n",
    "plt.hist(n_sent_diffs, density=True, bins=100)\n",
    "plt.show()"
   ]
  },
  {
   "cell_type": "code",
   "execution_count": 85,
   "id": "white-movie",
   "metadata": {
    "tags": []
   },
   "outputs": [
    {
     "data": {
      "text/plain": [
       "'EASO Democratic Republic of Congo (DRC) \\n\\n\\nMedical Country of Origin Information \\n\\nReport \\n\\n\\nDecember 2020 [Month] 2020 \\n\\n\\nMore information on the European Union is available on the Internet (http://europa.eu) \\n\\n\\nPDF \\n\\nISBN: 978-92-9485-769-9 \\n\\ndoi: 10.2847/40625 \\n\\nBZ-06-20-137-EN-N \\n\\n© European Asylum Support Office, 2020 \\n\\nCover photo©World Bank Photo Collection (CC BY-NC-ND 2.0). A Trip to the Front Lines of the Fight Against Ebola, 16 January 2019 - Beni, Democratic Republic of Congo. \\n\\nReproduction is authorised provided the source is acknowledged. For any use or reproduction of photos or other material that is not under the EASO copyright, permission must be sought directly from the copyright holders. \\n\\n\\nMedical Country of Origin Information Report | Democratic Republic of Congo (DRC) \\n\\nAcknowledgements \\n\\nEASO acknowledges International SOS (Intl.SOS) as the drafter of this report. \\n\\n\\nThe following departments and organisations have reviewed the report: \\n\\n• EASO, MedCOI Sector, Third Country Research Unit, Asylum Knowledge Centre, \\n\\n• Belgian Desk on Accessibility (BDA) at the Belgian Immigration Department, \\n\\n• Department for Asylum and Migration Policy at the International and European Affairs Unit \\n\\nwithin the Ministry of the Interior of the Czech Republic, \\n\\n• Country of Origin Information (COI) Unit at the Ministry of Immigration and Integration within \\n\\nthe Danish Immigration Service, and \\n\\n• COI Information Desk / Documentation of COI documents and case law at the German Federal \\n\\nOffice for Migration and Refugees. \\n\\n\\nIt must be noted that the review carried out by the mentioned departments, experts or organisations contributes to the overall quality of the report, but does not necessarily imply their formal endorsement of the final report, which is the full responsibility of EASO. \\n\\n\\n3 \\n\\n\\x0cMedical Country of Origin Information Report | Democratic Republic of Congo (DRC) \\n\\nContents \\n\\n Acknowledgements ................................................................................................................................. 3 \\n\\nContents .................................................................................................................................................. 4 \\n\\nDisclaimer................................................................................................................................................ 8 \\n\\nGlossary and Abbreviations .................................................................................................................... 9 \\n\\nIntroduction .......................................................................................................................................... 11 \\n\\nMethodology .................................................................................................................................... 11 \\n\\nDefining the terms of reference ................................................................................................... 11 \\n\\nCollecting information .................................................................................................................. 11 \\n\\nQuality control .............................................................................................................................. 12 \\n\\nStructure and use of the report ........................................................................................................ 12 \\n\\nReferencing ....................................................................................................................................... 13 \\n\\nMap ....................................................................................................................................................... 14 \\n\\n1. General Information ......................................................................................................................... 15 \\n\\n1.1 Geography and Demographics ................................................................................................... 15 \\n\\n1.2 Political Context .......................................................................................................................... 16 \\n\\n1.3 Economic Context ....................................................................................................................... 17 \\n\\n1.4 Historical Background ................................................................................................................. 17 \\n\\n2 Health System Organisation............................................................................................................... 18 \\n\\n2.1 Impact of COVID-19 .................................................................................................................... 18 \\n\\n2.2 Overview ..................................................................................................................................... 18 \\n\\n2.3 Public Healthcare ......................................................................'"
      ]
     },
     "execution_count": 85,
     "metadata": {},
     "output_type": "execute_result"
    }
   ],
   "source": [
    "max_idx = np.argmax(n_sent_diffs)\n",
    "train_documents.iloc[max_idx][\"doc_text\"][:5000]"
   ]
  },
  {
   "cell_type": "code",
   "execution_count": 101,
   "id": "affecting-parker",
   "metadata": {},
   "outputs": [
    {
     "data": {
      "text/plain": [
       "sentence_text    All sources used are referenced.\n",
       "is_relevant                                     0\n",
       "sector_ids                                     []\n",
       "Name: 10, dtype: object"
      ]
     },
     "execution_count": 101,
     "metadata": {},
     "output_type": "execute_result"
    }
   ],
   "source": [
    "train_sentences.loc[train_documents.iloc[max_idx].name].iloc[10]"
   ]
  },
  {
   "cell_type": "code",
   "execution_count": 40,
   "id": "lonely-worry",
   "metadata": {},
   "outputs": [],
   "source": [
    "from transformers import AutoTokenizer\n",
    "tokenizer = AutoTokenizer.from_pretrained('bert-base-cased')"
   ]
  },
  {
   "cell_type": "code",
   "execution_count": 44,
   "id": "operating-saying",
   "metadata": {},
   "outputs": [
    {
     "data": {
      "text/plain": [
       "'[CLS] EASO Democratic Republic of Congo ( DRC ) Medical Country of Origin Information Report December 2020 [ Month ] 2020 More information on the European Union is available on the Internet ( http : / / europa. eu ) PDF ISBN : 978 - 92 - 9485 - 769 - 9 doi : 10. 2847 / 40625 BZ - 06 - 20 - 137 - EN - N © European Asylum Support Office, 2020 Cover photo©World Bank Photo Collection ( CC BY - NC - ND 2. 0 ). A Trip to the Front Lines of the Fight Against Ebola, 16 January 2019 - Beni, Democratic Republic of Congo. Rep [SEP]'"
      ]
     },
     "execution_count": 44,
     "metadata": {},
     "output_type": "execute_result"
    }
   ],
   "source": [
    "tokenizer.decode(tokenizer(train_documents.iloc[max_idx][\"doc_text\"][:499])[\"input_ids\"])"
   ]
  },
  {
   "cell_type": "code",
   "execution_count": 52,
   "id": "whole-walnut",
   "metadata": {},
   "outputs": [],
   "source": [
    "import nltk"
   ]
  },
  {
   "cell_type": "code",
   "execution_count": 55,
   "id": "swiss-cowboy",
   "metadata": {},
   "outputs": [
    {
     "data": {
      "text/plain": [
       "['EASO Democratic Republic of Congo (DRC) \\n\\n\\nMedical Country of Origin Information \\n\\nReport \\n\\n\\nDecember 2020 [Month] 2020 \\n\\n\\nMore information on the European Union is available on the Internet (http://europa.eu) \\n\\n\\nPDF \\n\\nISBN: 978-92-9485-769-9 \\n\\ndoi: 10.2847/40625 \\n\\nBZ-06-20-137-EN-N \\n\\n© European Asylum Support Office, 2020 \\n\\nCover photo©World Bank Photo Collection (CC BY-NC-ND 2.0).',\n",
       " 'A Trip to the Front Lines of the Fight Against Ebola, 16 January 2019 - Beni, Democratic Republic of Congo.',\n",
       " 'Reproduction is authorised provided the source is acknowledged.']"
      ]
     },
     "execution_count": 55,
     "metadata": {},
     "output_type": "execute_result"
    }
   ],
   "source": [
    "nltk.sent_tokenize(train_documents.iloc[max_idx][\"doc_text\"])[:3]\n"
   ]
  },
  {
   "cell_type": "code",
   "execution_count": 78,
   "id": "eleven-america",
   "metadata": {},
   "outputs": [],
   "source": [
    "relevant_sents = train_sentences[train_sentences.is_relevant == 1]\n",
    "lonest_relevant = relevant_sents.iloc[np.argmax(relevant_sents.sentence_text.apply(len))]"
   ]
  },
  {
   "cell_type": "code",
   "execution_count": 83,
   "id": "welsh-manner",
   "metadata": {},
   "outputs": [
    {
     "data": {
      "text/plain": [
       "\"[CLS] Physical contact with infected people Physical contact with contaminated object Drinking / washing in infected water Breastmilk Eating certain foods Survey respondents'views on which group of people is most at risk from getting seriously ill from COVID - 19 : 3 Proportion of respondents reporting the following methods of contracting COVID - 19 : 3 21 Symptoms most commonly reported by respondents as related to COVID - 19 : 3 Survey respondents'view on whether one can take measures to reduce the chance of getting COVID - 19 : COVID - 19 Knowledge Round 4 - 25 Aug - 17 Sep 2020 Round 5 - 20 - 26 October 2020 Survey respondents'views on whether all people with COVID - 19 show symptoms : Yes, all show symptoms No, not all show symptoms Do not know Fever Cough Sneezing Sore throat Headache Joint / muscle pain Diarrhoea Vomiting Rash Difficulty breathing Other Drowsiness5 Yes No Do not know 93 % 5 % 54 % 44 % 2 % 92 % 84 % 67 % 54 % 37 % 34 % 24 % 10 % 5 % 3 % 1 % 1 % 54 + 92 + 84 + 67 + 54 + 37 + 34 + 24 + 10 + 5 + 3 + 1 + 1 1 % 93 + 85 + 75 + 71 + 54 + 40 + 52 + 34 + 42 + 19 50 + 40 + 33 + 26 + 14 + 9 + 4 + 1 + 1 + 1 50 % 40 % 33 % 26 % 14 % 9 % 4 % 1 % 1 % 1 % Wearing a face mask Washing hands Avoid crowds Stop shaking hands and touching Stay home Wearing gloves Disinfecting / cleaning objects and surfaces Increase physical distance Praying Drinking some boiled herbs / eating certain foods Exposing oneself to high temperatures ( > 25 C ) Eating garlic Taking specific medication None Taking a hot bath Avoiding housefiles I don't know Eating / drinking specific foods to boost immunity Gargling with salt water Yes, all show symptoms No, not all show symptoms Do not know Fever Cough Sneezing Sore throat Headache Joint / muscle pain Diarrhoea Vomiting Rash Difficulty breathing Other Lack of appetite4 Loss of taste / smell4 Yes No Do not know 96 % 4 % 43 % 56 % 1 % 92 % 74 % 61 % 59 % 40 % 33 % 23 % 6 % 2 % 58 % 1 % 15 % 26 % 43 + 92 + 74 + 61 + 59 + 40 + 33 + 23 + 6 + 2 + 58 + 1 + 15 + 26 0 % 96 + 79 + 74 + 76 + 57 + 31 + 34 + 33 + 32 + 15 + 43 52 + 29 + 23 + 22 + 11 + 3 + 1 + 0 + 45 + 1 + 0 + 0 52 % 29 % 23 % 22 % 11 % 3 % 1 % 0 % 45 % 1 % 0 % 0 % 79 % 74 % 76 % 57 % 31 % 34 % 33 % 32 % 15 % 43 % COVID - 19 : 3 85 % 75 % 71 % 54 % 40 % 52 % 34 % 42 % 19 % Wearing a face mask Washing hands Avoid crowds Stop shaking hands and touching Stay home Wearing gloves Disinfecting / cleaning objects and surfaces Increase physical distance Praying Using hand sanitizer4 Drinking some boiled herbs / eating certain foods Exposing oneself to high temperatures ( > 25 C ) Eating garlic Taking specific medication None Taking a hot bath Avoiding housefiles I don't know Eating / drinking specific foods to boost immunity Gargling with salt water Increase water intake4 Other Of the above %, proportion of respondents reporting the following possible prevention measures to reduce the risk of contracting Myths related to preventative measures as heard by respondents : 3 22 44 + 2 56 + 1 6 + 1 4 + 0 COVID - 19 Attitudes Round 4 - 25 Aug - 17 Sep 2020 Round 5 - 20 - 26 October 2020 Respondents'degree of concern with regards to COVID - 19 : Personally For family 14 % 43 % 26 % 16 % 1 % 14 + 43 + 26 + 16 + 1 11 + 48 + 29 + 12 + 1 11 % 48 % 29 % 12 % 1 % Not worried A little worried Somewhat worried Very worried Don't know 10 % 45 % 29 % 13 % 2 % 10 + 45 + 29 + 13 + 2 For family Respondents'estimations of the likelihood of contracting COVID - 19 within the month following data collection : Personally 18 % 41 % 29 % 12 % 0 % Somewhat worried Very worried Don't know Not worried A little worried 18 + 41 + 29 + 12 + 0 4 + 12 + 65 + 5 + 13 Very unlikely Unlikely Likely Very likely Don't know 4 % 12 % 65 % 5 % 13 % 2 + 10 + 68 + 5 + 15 Very unlikely Unlikely Likely Very likely Don't know 2 % 10 % 68 % 5 % 15 % Respondents'assessment of danger posed by COVID - 19 in comparison to other diseases : 1 Common cold 2 Less dangerous About the same More dangerous Don't know 1 % 5 % 94 % 0 % Typhoid 9 % 11 % 79 % 1 % 3 Cancer 55 % 11 % 33 % 0 % 1 Common cold 2 Less dangerous About the same More dangerous Don't know 0 % 6 % 94 % 0 % Typhoid 5 % 12 % 83 % 0 % 3 Cancer 62 % 11 % 27 % 0 % Proportion of respondents who agree with the following statements : 3 People should shake hands People should participate in social gatherings All shops, including non - essential ones, should remain open People should maintain distance while queuing in public places 6 % 12 % 52 % 91 % People should shake hands People should participate in social gatherings All shops, including non - essential ones, should remain open People should maintain distance while queuing in public places 6 % 11 % 54 % 95 % 61 % of respondents believe that COVID - 19 is generating discrimination against specific groups of people 67 % of respondents believe that COVID - 19 is generating discrimination against specific groups of people Of the above % who reported there is discrimination, most commonly reported groups of people perceived to be likely to face discrimination : 3 COVID - 19 positive persons Health workers Persons suspected of having COVID - 19 Those who work outside the community Internally Displaced Persons ( IDPs ) 52 + 23 + 30 + 8 + 2 52 % 23 % 30 % 8 % 2 % COVID - 19 positive persons Persons suspected of having COVID - 19 Health workers Those who work outside the community Internally Displaced Persons ( IDPs ) 90 + 60 + 37 + 10 + 6 90 % 60 % 37 % 10 % 6 % 23 COVID - 19 Practices Round 4 - 25 Aug - 17 Sep 2020 Round 5 - 20 - 26 October 2020 Proportion of respondents who had done the following in the week prior to data collection : 3 Greeted someone with a handshake / hug Left the house Visited friends and family outside the home Left home to go to work Attended a large gathering Tried to keep distance of two metres from others when outside Washed hands more than normal Stayed home more than normal 50 % 99 % 87 % 85 % 84 % 22 % 63 % 26 % Greeted someone with a handshake / hug Left the house Visited friends and family outside the home Left home to go to work Attended a large gathering Tried to keep distance of two metres from others when outside Washed hands more than normal Stayed home more than normal In case of contracting COVID - 19, responses from respondents as to what they would do : 3 Do nothing / continue life as normal Stay at home Stay at home and isolate oneself from others Call a doctor / medical professional Go to doctor's office / clinic Go to hospital Pray Go to work even while sick 2 % 8 % 46 % 33 % 21 % 51 % 5 % 14 % Do nothing / continue life as normal Stay at home Stay at home and isolate oneself from others Call a doctor / medical professional Go to doctor's office / clinic Go to hospital Pray Go to work even while sick 50 % 100 % 87 % 83 % 75 % 22 % 56 % 22 % 1 % 8 % 46 % 32 % 19 % 56 % 5 % 1 % 55 % of respondents believe their employers are flexible with regard to COVID - 19 60 % of respondents believe their employers are flexible with regard to COVID - 19 61 % of respondents reported that they had undertaken preventive measures to mitigate the risk of contracting COVID - 19 73 % of respondents reported that they had undertaken preventive measures to mitigate the risk of contracting COVID - 19 Of the above %, proportion of respondents reporting taking the following prevention measures to reduce the risk of contracting COVID - 19 : 3 Washing hands Avoiding crowds Wearing a face mask Disinfecting objects and surfaces Stop shaking hands Staying home Wearing gloves Increasing physical distance Pray 79 + 61 + 64 + 40 + 29 + 17 + 23 + 25 + 16 79 % 61 % 64 % 40 % 29 % 17 % 23 % 25 % 16 % Washing hands Avoiding crowds Wearing a face mask Disinfecting objects and surfaces Stop shaking hands Staying home Wearing gloves Increasing physical distance Pray Using hand sanitizer4 77 + 56 + 68 + 32 + 27 + 17 + 17 + 23 + 12 + 41 77 % 56 % 68 % 32 % 27 % 17 % 17 % 23 % 12 % 41 % 24 COVID - 19 Practices Round 4 - 25 Aug - 17 Sep 2020 Round 5 - 20 - 26 October 2020 66 % of respondents reported that they face barriers in taking preventive measures to mitigate the risk of contracting COVID - 19 67 % of respondents reported that they face barriers in taking preventive measures to mitigate the risk of contracting COVID - 19 Of the above %, proportion of respondents reporting on barriers that prevented them from taking preventive steps : 3 Lack of money to buy protective items Lack of money and have to work Social and cultural acceptance Don't know what to do Don't believe COVID - 19 exists 33 + 46 + 9 + 3 + 2 33 % 46 % 9 % 3 % 2 % Lack of money to buy protective items Lack of money and have to work Social and cultural acceptance Don't know what to do Don't believe COVID - 19 exists 38 + 47 + 6 + 3 + 1 38 % 47 % 6 % 3 % 1 % 90 % of respondents use hand sanitizer if available before entering a public building 97 % of respondents use hand sanitizer if available before entering a public building Face masks Have a mask Do not have a mask Proportion of respondents who have a face mask : 49 + 49 % 51 % Face masks Have a mask Do not have a mask Proportion of respondents who have a face mask : 61 + 61 % 39 % Proportion of respondents who reported it was / would be possible to get a face mask through the following channels in the week prior to data collection : I don't know Yes, in the market Yes, distributed by authorities / NGOs Yes, in the market distributed by authorities / NGOs No, in market but too expensive No, in market but in insufficient quantities No, not available in the market 0 % 81 % 2 % 2 % 13 % 1 % 1 % I don't know Yes, in the market Yes, distributed by authorities / NGOs Yes, in the market distributed by authorities / NGOs No, in market but too expensive No, in market but in insufficient quantities No, not available in the market 0 % 80 % 3 % 1 % 16 % 0 % 0 % Proportion of respondents who did not have a mask, and reported it was / would be possible to use alternatives for a mask in the week prior to data collection : 3 Homemade Using a scarf as a mask Reusing an old mask Nothing 35 % 20 % 0 % 51 % Homemade Using a scarf as a mask Reusing an old mask Nothing Proportion of respondents who reported wearing a face mask in the following environments : 3 When out of the house shopping When out of the house for work When visiting friends / relatives / neighbours in their house When participating in social gatherings When visiting friends and neighbours in public spaces When receiving guests in the house Never All the time 49 % 71 % 11 % 42 % 11 % 7 % 6 % 1 % When out of the house shopping When out of the house for work When visiting friends / relatives / neighbours in their house When participating in social gatherings When visiting friends and neighbours in public spaces When receiving guests in the house Never All the time When going to the hospital / health center4 4 % 6 % 1 % 7 % 68 % 75 % 23 % 57 % 33 % 13 % 2 % 0 % 62 % 25 51 39 COVID - 19 Practices Round 4 - 25 Aug - 17 Sep 2020 Round 5 - 20 - 26 October 2020 Of those respondents not wearing a mask, proportion that reported the following reasons for not wearing a mask : 3 Don't believe face masks are important / effective against COVID - 19 Wearing masks is too uncomfortable Children refuse to wear masks Don't know Other Don't believe face masks are important / effective against COVID - 19 Wearing masks is too uncomfortable Children refuse to wear masks Don't know Other 59 % 0 % 3 % 38 % 0 % 24 % 68 % 0 % 0 % 14 % Proportion of respondents who reported it was / would be possible to get a respirator through the following channels in the week prior to data collection : I don't know Yes, in the market Yes, distributed by authorities / NGOs Yes, in the market distributed by authorities / NGOs No, in market but too expensive No, in market but in insufficient quantities No, not available in the market 7 % 15 % 0 % 0 % 42 % 5 % 31 % I don't know Yes, in the market Yes, distributed by authorities / NGOs Yes, in the market distributed by authorities / NGOs No, in market but too expensive No, in market but in insufficient quantities No, not available in the market 4 % 12 % 0 % 0 % 41 % 2 % 42 % Proportion of respondents who reported it was / would be possible to get gloves through the following channels in the week prior to I don't know Yes, in the market Yes, distributed by authorities / NGOs Yes, in the market distributed by authorities / NGOs No, in market but too expensive No, in market but in insufficient quantities No, not available in the market data collection : 0 % 84 % 1 % 2 % 10 % 1 % 1 % I don't know Yes, in the market Yes, distributed by authorities / NGOs Yes, in the market distributed by authorities / NGOs No, in market but too expensive No, in market but in insufficient quantities No, not available in the market 0 % 78 % 1 % 0 % 19 % 1 % 1 % 26 Results for Northwest Syria - Female COVID - 19 Knowledge Round 4 - 25 Aug - 17 Sep 2020 Round 5 - 20 - 26 October 2020 Proportion of respondents reporting the following sources from whom they receive most of their information about COVID - 19 : 3 Proportion of respondents reporting the following sources from which they receive most of their information about COVID - 19 : 3 Proportion of respondents reporting the following as the most trusted sources to give them reliable information about COVID - 19 : 3 Relatives and family From friends Health worker at health facility From neighbours Health worker via door - to - door NGO worker Local authorities Community and religious leaders Teachers Don't know Other Social media messaging Television Other Radio Don't know Health worker at health facility Social media messaging Word of mouth Health worker via door - to - door Local authorities Television Community and religious leaders Other None Radio Elderly People with pre - existing conditions Health workers Everyone Children ( 1 - 17 ) Adults ( 18 + ) Pregnant / lactating women Other 75 % 56 % 43 % 50 % 29 % 21 % 10 % 2 % 9 % 0 % 0 % 75 + 56 + 43 + 50 + 29 + 21 + 10 + 2 + 9 + 0 95 + 19 + 2 + 1 + 2 55 + 57 + 40 + 26 + 6 + 7 95 % 19 % 2 % 1 % 2 % Relatives and family From friends Health worker at health facility From neighbours Health worker via door - to - door NGO worker Local authorities Community and religious leaders Teachers Don't know Other 82 + 65 + 52 + 56 + 27 + 24 + 12 + 3 + 9 + 0 + 5 82 % 65 % 52 % 56 % 27 % 24 % 12 % 3 % 9 % 0 % 5 % Social media messaging Television Other Radio Don't know 55 % 57 % 40 % 26 % 6 % 7 % 0 % 0 % 0 % 0 % Health worker at health facility Social media messaging Word of mouth Health worker via door - to - door Local authorities Television Community and religious leaders Other None Radio Elderly People with pre - existing conditions Health workers Everyone Children ( 1 - 17 ) Adults ( 18 + ) Pregnant / lactating women Other 96 % 13 % 2 % 0 % 1 % 60 % 59 % 43 % 26 % 7 % 10 % 0 % 0 % 0 % 0 % 96 + 13 + 2 + 0 + 1 60 + 59 + 43 + 26 + 7 + 10 + 0 + 0 + 0 + 0 65 + 63 + 15 + 30 + 9 + 12 + 8 86 + 81 + 59 + 9 + 4 + 4 65 % 63 % 15 % 30 % 9 % 12 % 8 % 0 % 86 % 81 % 59 % 9 % 4 % 4 % 67 % 58 % 23 % 27 % 10 % 9 % 10 % 0 % 67 + 58 + 23 + 27 + 10 + 9 + 10 + 0 84 + 80 + 51 + 12 + 3 + 2 84 % 80 % 51 % 12 % 3 % 2 % Proportion of respondents reporting the following methods of contracting COVID - 19 : 3 Airborne ( other people coughing, etc. ) [SEP]\""
      ]
     },
     "execution_count": 83,
     "metadata": {},
     "output_type": "execute_result"
    }
   ],
   "source": [
    "tokenizer.decode((tokenizer(lonest_relevant.sentence_text)[\"input_ids\"]))"
   ]
  },
  {
   "cell_type": "markdown",
   "id": "variable-saturn",
   "metadata": {},
   "source": [
    "## Observations\n",
    "\n",
    "- Document texts are very unclean and do not have 1-1 relation to sentences (i.e. a document_text may contain more things)\n",
    "- Sentences are sometimes unrealistically long (the longest relevant sentence has about 3800 tokens)\n",
    "- For classification we will not be able to use a simple BERT but we will need to do some improvisation or use an entirely different technique"
   ]
  },
  {
   "cell_type": "code",
   "execution_count": null,
   "id": "human-mortgage",
   "metadata": {},
   "outputs": [],
   "source": []
  }
 ],
 "metadata": {
  "kernelspec": {
   "display_name": "Python 3",
   "language": "python",
   "name": "python3"
  },
  "language_info": {
   "codemirror_mode": {
    "name": "ipython",
    "version": 3
   },
   "file_extension": ".py",
   "mimetype": "text/x-python",
   "name": "python",
   "nbconvert_exporter": "python",
   "pygments_lexer": "ipython3",
   "version": "3.8.8"
  }
 },
 "nbformat": 4,
 "nbformat_minor": 5
}
