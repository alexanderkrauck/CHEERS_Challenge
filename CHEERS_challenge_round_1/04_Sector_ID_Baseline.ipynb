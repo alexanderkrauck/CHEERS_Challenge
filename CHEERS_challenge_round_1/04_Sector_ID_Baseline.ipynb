{
 "cells": [
  {
   "cell_type": "code",
   "execution_count": 1,
   "id": "89fb4299",
   "metadata": {},
   "outputs": [
    {
     "name": "stderr",
     "output_type": "stream",
     "text": [
      "Global seed set to 1337\n"
     ]
    }
   ],
   "source": [
    "import numpy as np\n",
    "import pandas as pd\n",
    "from os.path import join\n",
    "from datetime import datetime\n",
    "from pathlib import Path\n",
    "\n",
    "import torch\n",
    "from torch import nn\n",
    "import torch.nn.functional as F\n",
    "from torch.utils.data import Dataset, DataLoader\n",
    "from pytorch_lightning import loggers as pl_loggers\n",
    "\n",
    "import pytorch_lightning as pl\n",
    "from pytorch_lightning import Trainer, seed_everything, LightningModule\n",
    "from pytorch_lightning.callbacks import ModelCheckpoint\n",
    "\n",
    "from transformers import BertModel\n",
    "from utils.data import RelevantDataset\n",
    "\n",
    "device = \"cuda\" if torch.cuda.is_available() else \"cpu\"\n",
    "\n",
    "from transformers import BertModel\n",
    "bert_id = \"google/bert_uncased_L-2_H-128_A-2\"\n",
    "\n",
    "notebook_datetime = datetime.now()\n",
    "seed_everything(1337)\n",
    "\n",
    "import torch\n",
    "from torch import nn\n",
    "import torch.nn.functional as F\n",
    "\n",
    "from pytorch_lightning import LightningModule\n",
    "\n",
    "from transformers import BertModel"
   ]
  },
  {
   "cell_type": "markdown",
   "id": "8d4c352a",
   "metadata": {},
   "source": [
    "# Loading the data"
   ]
  },
  {
   "cell_type": "markdown",
   "id": "9f3b31a9",
   "metadata": {},
   "source": [
    "## Dataset"
   ]
  },
  {
   "cell_type": "code",
   "execution_count": 109,
   "id": "3b64c680",
   "metadata": {
    "tags": []
   },
   "outputs": [],
   "source": [
    "class RelevantDataset(Dataset):\n",
    "    def __init__(\n",
    "        self,\n",
    "        dataset: str,\n",
    "        target_mode: str = \"isrelevant\",\n",
    "        device: str = \"cpu\",\n",
    "        dimensions: tuple = None,\n",
    "        load_only_relevant: bool = False\n",
    "    ):\n",
    "        \"\"\"Constructor Function\n",
    "        Parameters\n",
    "        ----------\n",
    "        dataset : str\n",
    "            Decides which dataset will be loaded. Can be either \"train\", \"test\" or \"val\".\n",
    "        target_mode : str\n",
    "            Decides which target is returned in the __getitem__ function. Can be either \"isrelevant\", \"sentencetype\" or \"both\".TODO:!!!!\n",
    "        device : str\n",
    "            Decides on which device the torch tensors will be returned.\n",
    "        dimensions : tuple\n",
    "            The dimensions to use for returning one hot encodings.\n",
    "        load_only_relevant : bool\n",
    "            If true the Dataset will only contain samples with the \"relevant\" target equal True.\n",
    "        \"\"\" \n",
    "\n",
    "        if dataset == \"train\":\n",
    "            joint_dataframe = pd.read_hdf(\"./preprocessed_data/train_joint.h5\", key=\"s\")\n",
    "        if dataset == \"val\":\n",
    "            joint_dataframe = pd.read_hdf(\"./preprocessed_data/validation_joint.h5\", key=\"s\")\n",
    "            if not dimensions:\n",
    "                raise TypeError(\"Dimensions attribute is required for dataset type \\\"validation\\\".\")\n",
    "        if dataset == \"test\":\n",
    "            joint_dataframe = pd.read_hdf(\"./preprocessed_data/test_joint.h5\", key=\"s\")\n",
    "            if not dimensions:\n",
    "                raise TypeError(\"Dimensions attribute is required for dataset type \\\"test\\\".\")\n",
    "        if load_only_relevant:\n",
    "            joint_dataframe = joint_dataframe[joint_dataframe[\"is_relevant\"] == True]\n",
    "        self.target_mode = target_mode\n",
    "    \n",
    "    \n",
    "    \n",
    "        self.X = joint_dataframe[[\"sentence_position\", \"sentence_length\", \"tokenized_sentence\", \"project_name\", \"country_code\", \"url\", \"text_length\", \"sentence_count\"]].to_numpy()\n",
    "          \n",
    "        if self.target_mode == \"isrelevant\":\n",
    "            self.Y = joint_dataframe[\"is_relevant\"].to_numpy()\n",
    "            if dimensions is None:\n",
    "                self.dimensions = ((1, (4, len(set(self.X[:,3])), len(set(self.X[:,4])), len(set(self.X[:,5])))), 1)\n",
    "            else:\n",
    "                self.dimensions = dimensions\n",
    "\n",
    "        if self.target_mode == \"sentencetype\":\n",
    "            self.Y = joint_dataframe[\"sector_ids\"].to_numpy()\n",
    "            if dimensions is None:\n",
    "                self.dimensions = ((1, (4, len(set(self.X[:,3])), len(set(self.X[:,4])), len(set(self.X[:,5])))), 1)\n",
    "            else:\n",
    "                self.dimensions = dimensions\n",
    "            \n",
    "        self.device = device\n",
    "        \n",
    "    def __len__(self):\n",
    "        return len(self.Y)\n",
    "\n",
    "    \n",
    "    def __getitem__(self, idx, x_one_hot = True, x_train_ready = True):\n",
    "        \n",
    "        \"\"\"\n",
    "        Note that x_train_ready implies x_one_hot\n",
    "        \"\"\"\n",
    "        x_tmp = self.X[idx]\n",
    "        metric_x = torch.tensor([x_tmp[0], x_tmp[1], x_tmp[6], x_tmp[7]], device=self.device)#numerical features\n",
    "        sentence_x = torch.tensor(x_tmp[2], device=self.device, dtype=torch.long)#bert features\n",
    "        sentence_x = torch.cat((sentence_x, torch.zeros(512 - sentence_x.shape[0], device=self.device, dtype= torch.long)))\n",
    "        \n",
    "        #one hot features:\n",
    "        project_name_x = torch.tensor(x_tmp[3], device=self.device, dtype=torch.long)\n",
    "        country_code_x = torch.tensor(x_tmp[4], device=self.device, dtype=torch.long)\n",
    "        url_x = torch.tensor(x_tmp[5], device=self.device)\n",
    "        \n",
    "        y = torch.tensor(self.Y[idx], device=self.device, dtype=torch.long)\n",
    "\n",
    "        if x_train_ready or x_one_hot:\n",
    "            project_name_x = nn.functional.one_hot(project_name_x, num_classes = self.dimensions[0][1][1])\n",
    "            country_code_x = nn.functional.one_hot(country_code_x, num_classes = self.dimensions[0][1][2])\n",
    "            url_x = nn.functional.one_hot(url_x, num_classes = self.dimensions[0][1][3])\n",
    "        if x_train_ready:\n",
    "            x_other = torch.cat((metric_x, project_name_x, country_code_x, url_x), dim=0)\n",
    "            if self.target_mode == \"isrelevant\":\n",
    "                return (sentence_x, x_other), y\n",
    "            if self.target_mode == \"sentencetype\":\n",
    "                return (sentence_x, x_other), torch.tensor(float(len(y)))\n",
    "        if self.target_mode == \"isrelevant\":\n",
    "            return (sentence_x, (metric_x, project_name_x, country_code_x, url_x)), y\n",
    "        if self.target_mode == \"sentencetype\":\n",
    "            return (sentence_x, (metric_x, project_name_x, country_code_x, url_x)), torch.tensor(float(len(y)))"
   ]
  },
  {
   "cell_type": "code",
   "execution_count": 110,
   "id": "b70eaddb",
   "metadata": {},
   "outputs": [],
   "source": [
    "train_ds = RelevantDataset(dataset=\"train\", \n",
    "                           target_mode=\"sentencetype\"\n",
    "                          )\n",
    "valid_ds = RelevantDataset(dataset=\"val\", \n",
    "                           target_mode=\"sentencetype\",\n",
    "                           dimensions = train_ds.dimensions\n",
    "                          )"
   ]
  },
  {
   "cell_type": "markdown",
   "id": "a1eb5ce3",
   "metadata": {},
   "source": [
    "# Hyperparams"
   ]
  },
  {
   "cell_type": "code",
   "execution_count": 121,
   "id": "c577ffa6",
   "metadata": {},
   "outputs": [],
   "source": [
    "start_lr = 1e-4\n",
    "batch_size = 16"
   ]
  },
  {
   "cell_type": "markdown",
   "id": "a563a002",
   "metadata": {},
   "source": [
    "## Loader"
   ]
  },
  {
   "cell_type": "code",
   "execution_count": 122,
   "id": "afbabd78",
   "metadata": {},
   "outputs": [],
   "source": [
    "train_dl = DataLoader(train_ds,batch_size  = batch_size, shuffle=True)\n",
    "valid_dl = DataLoader(train_ds, batch_size  = 64, shuffle=False)"
   ]
  },
  {
   "cell_type": "code",
   "execution_count": 123,
   "id": "b479f73c",
   "metadata": {},
   "outputs": [],
   "source": [
    "import pickle"
   ]
  },
  {
   "cell_type": "code",
   "execution_count": 129,
   "id": "4926d86b",
   "metadata": {},
   "outputs": [],
   "source": [
    "pickle.dump(train_dl, open(\"train_dl\", \"wb\"))\n",
    "pickle.dump(valid_dl, open(\"valid_dl\", \"wb\"))"
   ]
  },
  {
   "cell_type": "markdown",
   "id": "6a17cdbd",
   "metadata": {},
   "source": [
    "# Training"
   ]
  },
  {
   "cell_type": "markdown",
   "id": "ee36bd66",
   "metadata": {},
   "source": [
    "## Model def"
   ]
  },
  {
   "cell_type": "code",
   "execution_count": 113,
   "id": "6e16fb19",
   "metadata": {
    "tags": []
   },
   "outputs": [],
   "source": [
    "class SectorModuleV00(LightningModule):\n",
    "    \"\"\"Simple implementation of a sector module\n",
    "\n",
    "    Does not implment weighting for samples with multiple sector ids\n",
    "    \"\"\"\n",
    "\n",
    "    def __init__(self, bert: BertModel, input_size: int, output_size: int, start_lr=1e-4):\n",
    "        super().__init__()        \n",
    "        self.bert = bert\n",
    "        self.linear_after_bert = nn.Linear(bert.config.hidden_size, 256)\n",
    "        self.feed_forward = nn.Sequential(\n",
    "            nn.Linear(256 + input_size, 1024),\n",
    "            nn.ReLU(),\n",
    "            nn.Dropout(),\n",
    "            nn.Linear(1024, 256),\n",
    "            nn.ReLU(),\n",
    "            nn.Dropout(),\n",
    "            nn.Linear(256, 64),\n",
    "            nn.ReLU(),\n",
    "            nn.Dropout(),\n",
    "            nn.Linear(64, output_size)\n",
    "        )\n",
    "        self.loss = nn.MSELoss()\n",
    "        \n",
    "        \n",
    "        for m in self.feed_forward:\n",
    "            if type(m) is nn.Linear:\n",
    "                nn.init.kaiming_normal_(m.weight, nonlinearity=\"relu\")\n",
    "                nn.init.constant_(m.bias, 0)\n",
    "        \n",
    "        self.start_lr = start_lr\n",
    "\n",
    "    def forward(self, x):\n",
    "        x_bert = x[0]\n",
    "        x_other = x[1]\n",
    "\n",
    "        x_bert = self.bert(x_bert)[\"last_hidden_state\"][:,0] #all batches but only clf output\n",
    "        x_bert = self.linear_after_bert(x_bert)\n",
    "        x_bert = torch.relu(x_bert)#is new (not sure if improves by much)\n",
    "\n",
    "        x = torch.cat((x_bert, x_other), dim=1)#dim=1 is feature dimensions (0 is batch dim)\n",
    "\n",
    "        return self.feed_forward(x)\n",
    "\n",
    "    def configure_optimizers(self):\n",
    "        optimizer = torch.optim.Adam(self.parameters(), lr=self.start_lr)\n",
    "        #return optimizer\n",
    "        return {\n",
    "           'optimizer': optimizer,\n",
    "           'lr_scheduler': torch.optim.lr_scheduler.ReduceLROnPlateau(optimizer, verbose=True, factor =.2, patience =1, cooldown =2, min_lr =1e-6),\n",
    "           'monitor': 'val_loss'\n",
    "       }\n",
    "       \n",
    "    def training_step(self, train_batch, batch_idx):\n",
    "        x, y = train_batch\n",
    "\n",
    "        y_hat = self.forward(x)\n",
    "\n",
    "        loss = self.loss(y_hat, y)\n",
    "\n",
    "        self.log('train_loss', loss, on_step=True, on_epoch=True, prog_bar=True, logger=True)\n",
    "        return loss\n",
    "\n",
    "    def validation_step(self, val_batch, batch_idx):\n",
    "        x, y = val_batch\n",
    "        y_hat = self.forward(x)\n",
    "        print(y_hat, y)\n",
    "        loss = self.loss(y_hat, y)\n",
    "        acc = torch.sum(torch.argmax(y_hat, dim=1) == y) / len(y)\n",
    "\n",
    "        self.log('val_loss', loss, on_step=False, on_epoch=True, prog_bar=True, logger=True)\n",
    "        self.log(\"val_acc\", acc, on_step=False, on_epoch=True, prog_bar=True, logger=True)"
   ]
  },
  {
   "cell_type": "code",
   "execution_count": 114,
   "id": "f5aef443",
   "metadata": {},
   "outputs": [],
   "source": [
    "# from utils.architectures import SectorModuleV00\n",
    "\n",
    "model = SectorModuleV00(\n",
    "    bert = BertModel.from_pretrained(bert_id).to(device),\n",
    "    input_size = sum(train_ds.dimensions[0][1]), \n",
    "    output_size = train_ds.dimensions[1],\n",
    "    start_lr=start_lr\n",
    ")"
   ]
  },
  {
   "cell_type": "code",
   "execution_count": 115,
   "id": "9cb4547b",
   "metadata": {},
   "outputs": [
    {
     "name": "stdout",
     "output_type": "stream",
     "text": [
      "Logging to logs/SectorModuleV00/2021-04-20T20-12-04\n"
     ]
    }
   ],
   "source": [
    "architecture_name = model.__class__.__name__\n",
    "logdir = join(\"logs\", architecture_name, notebook_datetime.strftime(\"%Y-%m-%dT%H-%M-%S\"))\n",
    "print(f\"Logging to {logdir}\")\n",
    "Path(logdir).mkdir(parents=True, exist_ok=True)"
   ]
  },
  {
   "cell_type": "code",
   "execution_count": 116,
   "id": "d3cdcb60",
   "metadata": {},
   "outputs": [],
   "source": [
    "tb_logger = pl_loggers.TensorBoardLogger(logdir, name=\"\", version=\"\")"
   ]
  },
  {
   "cell_type": "code",
   "execution_count": 117,
   "id": "09a8787c",
   "metadata": {},
   "outputs": [],
   "source": [
    "checkpoint_callback = ModelCheckpoint(\n",
    "    monitor='val_loss',\n",
    "    dirpath=logdir,\n",
    "    verbose=True,\n",
    "    save_last=True,\n",
    "    save_top_k=-1, #save all\n",
    "    mode=\"min\",\n",
    "    filename='-{epoch:02d}-{val_loss:.2f}'\n",
    ")"
   ]
  },
  {
   "cell_type": "code",
   "execution_count": 118,
   "id": "560c7553",
   "metadata": {},
   "outputs": [
    {
     "name": "stderr",
     "output_type": "stream",
     "text": [
      "GPU available: False, used: False\n",
      "TPU available: False, using: 0 TPU cores\n"
     ]
    }
   ],
   "source": [
    "trainer = Trainer(\n",
    "#     gpus=1,\n",
    "    gpus=0,\n",
    "#     precision=16, \n",
    "    logger=tb_logger, \n",
    "    callbacks=[checkpoint_callback],\n",
    ")"
   ]
  },
  {
   "cell_type": "markdown",
   "id": "7952c498",
   "metadata": {},
   "source": [
    "## Executing run"
   ]
  },
  {
   "cell_type": "code",
   "execution_count": 119,
   "id": "b1dae0c8",
   "metadata": {},
   "outputs": [
    {
     "name": "stderr",
     "output_type": "stream",
     "text": [
      "\n",
      "  | Name              | Type       | Params\n",
      "-------------------------------------------------\n",
      "0 | bert              | BertModel  | 4.4 M \n",
      "1 | linear_after_bert | Linear     | 33.0 K\n",
      "2 | feed_forward      | Sequential | 713 K \n",
      "3 | loss              | MSELoss    | 0     \n",
      "-------------------------------------------------\n",
      "5.1 M     Trainable params\n",
      "0         Non-trainable params\n",
      "5.1 M     Total params\n",
      "20.528    Total estimated model params size (MB)\n"
     ]
    },
    {
     "data": {
      "application/vnd.jupyter.widget-view+json": {
       "model_id": "",
       "version_major": 2,
       "version_minor": 0
      },
      "text/plain": [
       "Validation sanity check: 0it [00:00, ?it/s]"
      ]
     },
     "metadata": {},
     "output_type": "display_data"
    },
    {
     "name": "stdout",
     "output_type": "stream",
     "text": [
      "tensor([[0.3840]]) tensor([0.])\n",
      "tensor([[0.3428]]) tensor([0.])\n"
     ]
    },
    {
     "data": {
      "application/vnd.jupyter.widget-view+json": {
       "model_id": "9e900f9cb0be4ccbab5b42c90cf68edb",
       "version_major": 2,
       "version_minor": 0
      },
      "text/plain": [
       "Training: 0it [00:00, ?it/s]"
      ]
     },
     "metadata": {},
     "output_type": "display_data"
    },
    {
     "name": "stderr",
     "output_type": "stream",
     "text": [
      "Saving latest checkpoint...\n",
      "Epoch 0, global step 25: val_loss reached 0.13251 (best 0.13251), saving model to \"/home/loerinczy/Desktop/CHEERS_Challenge/CHEERS_challenge_round_1/logs/SectorModuleV00/2021-04-20T20-12-04/-epoch=00-val_loss=0.13.ckpt\" as top 1\n"
     ]
    },
    {
     "data": {
      "text/plain": [
       "1"
      ]
     },
     "execution_count": 119,
     "metadata": {},
     "output_type": "execute_result"
    }
   ],
   "source": [
    "trainer.fit(model, train_dl, valid_dl)"
   ]
  },
  {
   "cell_type": "code",
   "execution_count": 120,
   "id": "b1170106",
   "metadata": {},
   "outputs": [],
   "source": [
    "a = torch.tensor(float(3))"
   ]
  },
  {
   "cell_type": "code",
   "execution_count": 77,
   "id": "6db0cc1a",
   "metadata": {},
   "outputs": [
    {
     "data": {
      "text/plain": [
       "torch.float32"
      ]
     },
     "execution_count": 77,
     "metadata": {},
     "output_type": "execute_result"
    }
   ],
   "source": [
    "a.dtype"
   ]
  },
  {
   "cell_type": "code",
   "execution_count": 43,
   "id": "5ab8272a",
   "metadata": {},
   "outputs": [
    {
     "data": {
      "text/plain": [
       "tensor(4.)"
      ]
     },
     "execution_count": 43,
     "metadata": {},
     "output_type": "execute_result"
    }
   ],
   "source": [
    "nn.MSELoss()(torch.Tensor([3]), torch.Tensor([5]))"
   ]
  },
  {
   "cell_type": "code",
   "execution_count": 52,
   "id": "68f6f9c1",
   "metadata": {},
   "outputs": [
    {
     "data": {
      "text/plain": [
       "int"
      ]
     },
     "execution_count": 52,
     "metadata": {},
     "output_type": "execute_result"
    }
   ],
   "source": [
    "type(len(torch.Tensor([3])))"
   ]
  },
  {
   "cell_type": "code",
   "execution_count": null,
   "id": "79965ae5",
   "metadata": {},
   "outputs": [],
   "source": []
  }
 ],
 "metadata": {
  "kernelspec": {
   "display_name": "Python 3",
   "language": "python",
   "name": "python3"
  },
  "language_info": {
   "codemirror_mode": {
    "name": "ipython",
    "version": 3
   },
   "file_extension": ".py",
   "mimetype": "text/x-python",
   "name": "python",
   "nbconvert_exporter": "python",
   "pygments_lexer": "ipython3",
   "version": "3.7.9"
  }
 },
 "nbformat": 4,
 "nbformat_minor": 5
}
