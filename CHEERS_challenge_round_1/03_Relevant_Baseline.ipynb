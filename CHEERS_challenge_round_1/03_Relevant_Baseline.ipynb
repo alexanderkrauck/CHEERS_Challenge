{
 "cells": [
  {
   "cell_type": "code",
   "execution_count": 1,
   "metadata": {},
   "outputs": [
    {
     "name": "stderr",
     "output_type": "stream",
     "text": [
      "Global seed set to 1337\n"
     ]
    },
    {
     "data": {
      "text/plain": [
       "1337"
      ]
     },
     "execution_count": 1,
     "metadata": {},
     "output_type": "execute_result"
    }
   ],
   "source": [
    "#Imports\n",
    "import numpy as np\n",
    "import pandas as pd\n",
    "from os.path import join\n",
    "from datetime import datetime\n",
    "from pathlib import Path\n",
    "\n",
    "import torch\n",
    "from torch import nn\n",
    "import torch.nn.functional as F\n",
    "from torch.utils.data import Dataset, DataLoader\n",
    "from pytorch_lightning import loggers as pl_loggers\n",
    "\n",
    "import pytorch_lightning as pl\n",
    "from pytorch_lightning import Trainer, seed_everything, LightningModule\n",
    "from pytorch_lightning.callbacks import ModelCheckpoint\n",
    "\n",
    "from transformers import BertModel\n",
    "from utils.data import RelevantDataset\n",
    "\n",
    "#Notebook Parameters\n",
    "if torch.cuda.is_available():\n",
    "    device = \"cuda\"\n",
    "else:\n",
    "    device = \"cpu\"\n",
    "    \n",
    "bert_id = \"google/bert_uncased_L-2_H-128_A-2\"\n",
    "\n",
    "noetbook_datetime = datetime.now()\n",
    "\n",
    "seed_everything(1337)"
   ]
  },
  {
   "cell_type": "markdown",
   "metadata": {},
   "source": [
    "# Training"
   ]
  },
  {
   "cell_type": "markdown",
   "metadata": {},
   "source": [
    "## Set Architecture"
   ]
  },
  {
   "cell_type": "code",
   "execution_count": 2,
   "metadata": {},
   "outputs": [],
   "source": [
    "from utils.architectures import RelevantModuleV02 as RelevantModule"
   ]
  },
  {
   "cell_type": "markdown",
   "metadata": {},
   "source": [
    "\n",
    "## Load Datasets"
   ]
  },
  {
   "cell_type": "code",
   "execution_count": 3,
   "metadata": {},
   "outputs": [],
   "source": [
    "train_ds = RelevantDataset(dataset=\"train\", target_mode=\"isrelevant\", device=device)\n",
    "validation_ds = RelevantDataset(dataset=\"val\", device = device, target_mode=\"isrelevant\", dimensions = train_ds.dimensions)"
   ]
  },
  {
   "cell_type": "markdown",
   "metadata": {},
   "source": [
    "## Hyperparameters"
   ]
  },
  {
   "cell_type": "code",
   "execution_count": 4,
   "metadata": {},
   "outputs": [],
   "source": [
    "start_lr = 1e-4\n",
    "batch_size = 16"
   ]
  },
  {
   "cell_type": "code",
   "execution_count": 5,
   "metadata": {},
   "outputs": [
    {
     "name": "stderr",
     "output_type": "stream",
     "text": [
      "GPU available: True, used: True\n",
      "TPU available: False, using: 0 TPU cores\n",
      "Using native 16bit precision.\n"
     ]
    },
    {
     "name": "stdout",
     "output_type": "stream",
     "text": [
      "Logging to logs\\RelevantModuleV02\\2021-04-19T23-12-14\n"
     ]
    }
   ],
   "source": [
    "# model\n",
    "model = RelevantModule(\n",
    "    bert = BertModel.from_pretrained(bert_id).to(device),\n",
    "    input_size = sum(train_ds.dimensions[0][1]), \n",
    "    output_size = train_ds.dimensions[1],\n",
    "    start_lr=start_lr\n",
    ")\n",
    "\n",
    "\n",
    "#monitoring\n",
    "architecture_name = model.__class__.__name__\n",
    "logdir = join(\"logs\", architecture_name, noetbook_datetime.strftime(\"%Y-%m-%dT%H-%M-%S\"))\n",
    "print(f\"Logging to {logdir}\")\n",
    "Path(logdir).mkdir(parents=True, exist_ok=True)\n",
    "\n",
    "tb_logger = pl_loggers.TensorBoardLogger(logdir, name=\"\", version=\"\")\n",
    "\n",
    "checkpoint_callback = ModelCheckpoint(\n",
    "    monitor='val_loss',\n",
    "    dirpath=logdir,\n",
    "    verbose=True,\n",
    "    save_last=True,\n",
    "    save_top_k=-1, #save all\n",
    "    mode=\"min\",\n",
    "    filename='-{epoch:02d}-{val_loss:.2f}'\n",
    ")\n",
    "\n",
    "#Dataloaders\n",
    "train_dl = DataLoader(train_ds,batch_size  = batch_size, shuffle=True)\n",
    "validation_dl = DataLoader(train_ds, batch_size  = 64, shuffle=False)\n",
    "\n",
    "# training\n",
    "trainer = Trainer(\n",
    "    gpus=1, \n",
    "    precision=16, \n",
    "    logger=tb_logger, \n",
    "    callbacks=[checkpoint_callback]\n",
    ")"
   ]
  },
  {
   "cell_type": "markdown",
   "metadata": {},
   "source": [
    "## Executing run"
   ]
  },
  {
   "cell_type": "code",
   "execution_count": null,
   "metadata": {},
   "outputs": [
    {
     "name": "stderr",
     "output_type": "stream",
     "text": [
      "LOCAL_RANK: 0 - CUDA_VISIBLE_DEVICES: [0]\n",
      "\n",
      "  | Name              | Type       | Params\n",
      "-------------------------------------------------\n",
      "0 | bert              | BertModel  | 4.4 M \n",
      "1 | linear_after_bert | Linear     | 33.0 K\n",
      "2 | feed_forward      | Sequential | 713 K \n",
      "-------------------------------------------------\n",
      "5.1 M     Trainable params\n",
      "0         Non-trainable params\n",
      "5.1 M     Total params\n",
      "20.528    Total estimated model params size (MB)\n"
     ]
    },
    {
     "data": {
      "application/vnd.jupyter.widget-view+json": {
       "model_id": "",
       "version_major": 2,
       "version_minor": 0
      },
      "text/plain": [
       "Validation sanity check: 0it [00:00, ?it/s]"
      ]
     },
     "metadata": {},
     "output_type": "display_data"
    },
    {
     "data": {
      "application/vnd.jupyter.widget-view+json": {
       "model_id": "d65ed5c53ee4444d89a4462b8241e130",
       "version_major": 2,
       "version_minor": 0
      },
      "text/plain": [
       "Training: 0it [00:00, ?it/s]"
      ]
     },
     "metadata": {},
     "output_type": "display_data"
    },
    {
     "data": {
      "application/vnd.jupyter.widget-view+json": {
       "model_id": "",
       "version_major": 2,
       "version_minor": 0
      },
      "text/plain": [
       "Validating: 0it [00:00, ?it/s]"
      ]
     },
     "metadata": {},
     "output_type": "display_data"
    },
    {
     "name": "stderr",
     "output_type": "stream",
     "text": [
      "Epoch 0, global step 16373: val_loss reached 0.25173 (best 0.25173), saving model to \"E:\\CHEERS_Challenge\\CHEERS_challenge_round_1\\logs\\RelevantModuleV02\\2021-04-19T23-12-14\\-epoch=00-val_loss=0.25.ckpt\" as top 1\n"
     ]
    },
    {
     "data": {
      "application/vnd.jupyter.widget-view+json": {
       "model_id": "",
       "version_major": 2,
       "version_minor": 0
      },
      "text/plain": [
       "Validating: 0it [00:00, ?it/s]"
      ]
     },
     "metadata": {},
     "output_type": "display_data"
    },
    {
     "name": "stderr",
     "output_type": "stream",
     "text": [
      "Epoch 1, global step 32747: val_loss reached 0.22714 (best 0.22714), saving model to \"E:\\CHEERS_Challenge\\CHEERS_challenge_round_1\\logs\\RelevantModuleV02\\2021-04-19T23-12-14\\-epoch=01-val_loss=0.23.ckpt\" as top 2\n"
     ]
    },
    {
     "data": {
      "application/vnd.jupyter.widget-view+json": {
       "model_id": "",
       "version_major": 2,
       "version_minor": 0
      },
      "text/plain": [
       "Validating: 0it [00:00, ?it/s]"
      ]
     },
     "metadata": {},
     "output_type": "display_data"
    },
    {
     "name": "stderr",
     "output_type": "stream",
     "text": [
      "Epoch 2, global step 49121: val_loss reached 0.20449 (best 0.20449), saving model to \"E:\\CHEERS_Challenge\\CHEERS_challenge_round_1\\logs\\RelevantModuleV02\\2021-04-19T23-12-14\\-epoch=02-val_loss=0.20.ckpt\" as top 3\n"
     ]
    },
    {
     "data": {
      "application/vnd.jupyter.widget-view+json": {
       "model_id": "",
       "version_major": 2,
       "version_minor": 0
      },
      "text/plain": [
       "Validating: 0it [00:00, ?it/s]"
      ]
     },
     "metadata": {},
     "output_type": "display_data"
    },
    {
     "name": "stderr",
     "output_type": "stream",
     "text": [
      "Epoch 3, global step 65495: val_loss reached 0.19907 (best 0.19907), saving model to \"E:\\CHEERS_Challenge\\CHEERS_challenge_round_1\\logs\\RelevantModuleV02\\2021-04-19T23-12-14\\-epoch=03-val_loss=0.20.ckpt\" as top 4\n"
     ]
    },
    {
     "data": {
      "application/vnd.jupyter.widget-view+json": {
       "model_id": "",
       "version_major": 2,
       "version_minor": 0
      },
      "text/plain": [
       "Validating: 0it [00:00, ?it/s]"
      ]
     },
     "metadata": {},
     "output_type": "display_data"
    },
    {
     "name": "stderr",
     "output_type": "stream",
     "text": [
      "Epoch 4, global step 81869: val_loss reached 0.16567 (best 0.16567), saving model to \"E:\\CHEERS_Challenge\\CHEERS_challenge_round_1\\logs\\RelevantModuleV02\\2021-04-19T23-12-14\\-epoch=04-val_loss=0.17.ckpt\" as top 5\n"
     ]
    },
    {
     "data": {
      "application/vnd.jupyter.widget-view+json": {
       "model_id": "",
       "version_major": 2,
       "version_minor": 0
      },
      "text/plain": [
       "Validating: 0it [00:00, ?it/s]"
      ]
     },
     "metadata": {},
     "output_type": "display_data"
    },
    {
     "name": "stderr",
     "output_type": "stream",
     "text": [
      "Epoch 5, global step 98243: val_loss reached 0.14733 (best 0.14733), saving model to \"E:\\CHEERS_Challenge\\CHEERS_challenge_round_1\\logs\\RelevantModuleV02\\2021-04-19T23-12-14\\-epoch=05-val_loss=0.15.ckpt\" as top 6\n"
     ]
    },
    {
     "data": {
      "application/vnd.jupyter.widget-view+json": {
       "model_id": "",
       "version_major": 2,
       "version_minor": 0
      },
      "text/plain": [
       "Validating: 0it [00:00, ?it/s]"
      ]
     },
     "metadata": {},
     "output_type": "display_data"
    },
    {
     "name": "stderr",
     "output_type": "stream",
     "text": [
      "Epoch 6, global step 114617: val_loss reached 0.12431 (best 0.12431), saving model to \"E:\\CHEERS_Challenge\\CHEERS_challenge_round_1\\logs\\RelevantModuleV02\\2021-04-19T23-12-14\\-epoch=06-val_loss=0.12.ckpt\" as top 7\n"
     ]
    },
    {
     "data": {
      "application/vnd.jupyter.widget-view+json": {
       "model_id": "",
       "version_major": 2,
       "version_minor": 0
      },
      "text/plain": [
       "Validating: 0it [00:00, ?it/s]"
      ]
     },
     "metadata": {},
     "output_type": "display_data"
    },
    {
     "name": "stderr",
     "output_type": "stream",
     "text": [
      "Epoch 7, global step 130991: val_loss reached 0.11833 (best 0.11833), saving model to \"E:\\CHEERS_Challenge\\CHEERS_challenge_round_1\\logs\\RelevantModuleV02\\2021-04-19T23-12-14\\-epoch=07-val_loss=0.12.ckpt\" as top 8\n"
     ]
    },
    {
     "data": {
      "application/vnd.jupyter.widget-view+json": {
       "model_id": "",
       "version_major": 2,
       "version_minor": 0
      },
      "text/plain": [
       "Validating: 0it [00:00, ?it/s]"
      ]
     },
     "metadata": {},
     "output_type": "display_data"
    },
    {
     "name": "stderr",
     "output_type": "stream",
     "text": [
      "Epoch 8, global step 147365: val_loss reached 0.09893 (best 0.09893), saving model to \"E:\\CHEERS_Challenge\\CHEERS_challenge_round_1\\logs\\RelevantModuleV02\\2021-04-19T23-12-14\\-epoch=08-val_loss=0.10.ckpt\" as top 9\n"
     ]
    },
    {
     "data": {
      "application/vnd.jupyter.widget-view+json": {
       "model_id": "",
       "version_major": 2,
       "version_minor": 0
      },
      "text/plain": [
       "Validating: 0it [00:00, ?it/s]"
      ]
     },
     "metadata": {},
     "output_type": "display_data"
    },
    {
     "name": "stderr",
     "output_type": "stream",
     "text": [
      "Epoch 9, global step 163739: val_loss reached 0.08671 (best 0.08671), saving model to \"E:\\CHEERS_Challenge\\CHEERS_challenge_round_1\\logs\\RelevantModuleV02\\2021-04-19T23-12-14\\-epoch=09-val_loss=0.09.ckpt\" as top 10\n"
     ]
    },
    {
     "data": {
      "application/vnd.jupyter.widget-view+json": {
       "model_id": "",
       "version_major": 2,
       "version_minor": 0
      },
      "text/plain": [
       "Validating: 0it [00:00, ?it/s]"
      ]
     },
     "metadata": {},
     "output_type": "display_data"
    },
    {
     "name": "stderr",
     "output_type": "stream",
     "text": [
      "Epoch 10, global step 180113: val_loss reached 0.08256 (best 0.08256), saving model to \"E:\\CHEERS_Challenge\\CHEERS_challenge_round_1\\logs\\RelevantModuleV02\\2021-04-19T23-12-14\\-epoch=10-val_loss=0.08.ckpt\" as top 11\n"
     ]
    },
    {
     "data": {
      "application/vnd.jupyter.widget-view+json": {
       "model_id": "",
       "version_major": 2,
       "version_minor": 0
      },
      "text/plain": [
       "Validating: 0it [00:00, ?it/s]"
      ]
     },
     "metadata": {},
     "output_type": "display_data"
    },
    {
     "name": "stderr",
     "output_type": "stream",
     "text": [
      "Epoch 11, global step 196487: val_loss reached 0.06901 (best 0.06901), saving model to \"E:\\CHEERS_Challenge\\CHEERS_challenge_round_1\\logs\\RelevantModuleV02\\2021-04-19T23-12-14\\-epoch=11-val_loss=0.07.ckpt\" as top 12\n"
     ]
    },
    {
     "data": {
      "application/vnd.jupyter.widget-view+json": {
       "model_id": "",
       "version_major": 2,
       "version_minor": 0
      },
      "text/plain": [
       "Validating: 0it [00:00, ?it/s]"
      ]
     },
     "metadata": {},
     "output_type": "display_data"
    },
    {
     "name": "stderr",
     "output_type": "stream",
     "text": [
      "Epoch 12, global step 212861: val_loss reached 0.06440 (best 0.06440), saving model to \"E:\\CHEERS_Challenge\\CHEERS_challenge_round_1\\logs\\RelevantModuleV02\\2021-04-19T23-12-14\\-epoch=12-val_loss=0.06.ckpt\" as top 13\n"
     ]
    },
    {
     "data": {
      "application/vnd.jupyter.widget-view+json": {
       "model_id": "",
       "version_major": 2,
       "version_minor": 0
      },
      "text/plain": [
       "Validating: 0it [00:00, ?it/s]"
      ]
     },
     "metadata": {},
     "output_type": "display_data"
    },
    {
     "name": "stderr",
     "output_type": "stream",
     "text": [
      "Epoch 13, global step 229235: val_loss reached 0.06254 (best 0.06254), saving model to \"E:\\CHEERS_Challenge\\CHEERS_challenge_round_1\\logs\\RelevantModuleV02\\2021-04-19T23-12-14\\-epoch=13-val_loss=0.06.ckpt\" as top 14\n"
     ]
    },
    {
     "data": {
      "application/vnd.jupyter.widget-view+json": {
       "model_id": "",
       "version_major": 2,
       "version_minor": 0
      },
      "text/plain": [
       "Validating: 0it [00:00, ?it/s]"
      ]
     },
     "metadata": {},
     "output_type": "display_data"
    },
    {
     "name": "stderr",
     "output_type": "stream",
     "text": [
      "Epoch 14, global step 245609: val_loss reached 0.05437 (best 0.05437), saving model to \"E:\\CHEERS_Challenge\\CHEERS_challenge_round_1\\logs\\RelevantModuleV02\\2021-04-19T23-12-14\\-epoch=14-val_loss=0.05.ckpt\" as top 15\n"
     ]
    },
    {
     "data": {
      "application/vnd.jupyter.widget-view+json": {
       "model_id": "",
       "version_major": 2,
       "version_minor": 0
      },
      "text/plain": [
       "Validating: 0it [00:00, ?it/s]"
      ]
     },
     "metadata": {},
     "output_type": "display_data"
    },
    {
     "name": "stderr",
     "output_type": "stream",
     "text": [
      "Epoch 15, global step 261983: val_loss reached 0.05144 (best 0.05144), saving model to \"E:\\CHEERS_Challenge\\CHEERS_challenge_round_1\\logs\\RelevantModuleV02\\2021-04-19T23-12-14\\-epoch=15-val_loss=0.05.ckpt\" as top 16\n"
     ]
    },
    {
     "data": {
      "application/vnd.jupyter.widget-view+json": {
       "model_id": "",
       "version_major": 2,
       "version_minor": 0
      },
      "text/plain": [
       "Validating: 0it [00:00, ?it/s]"
      ]
     },
     "metadata": {},
     "output_type": "display_data"
    },
    {
     "name": "stderr",
     "output_type": "stream",
     "text": [
      "Epoch 16, global step 278357: val_loss reached 0.05004 (best 0.05004), saving model to \"E:\\CHEERS_Challenge\\CHEERS_challenge_round_1\\logs\\RelevantModuleV02\\2021-04-19T23-12-14\\-epoch=16-val_loss=0.05.ckpt\" as top 17\n"
     ]
    },
    {
     "data": {
      "application/vnd.jupyter.widget-view+json": {
       "model_id": "",
       "version_major": 2,
       "version_minor": 0
      },
      "text/plain": [
       "Validating: 0it [00:00, ?it/s]"
      ]
     },
     "metadata": {},
     "output_type": "display_data"
    },
    {
     "name": "stderr",
     "output_type": "stream",
     "text": [
      "Epoch 17, global step 294731: val_loss reached 0.04643 (best 0.04643), saving model to \"E:\\CHEERS_Challenge\\CHEERS_challenge_round_1\\logs\\RelevantModuleV02\\2021-04-19T23-12-14\\-epoch=17-val_loss=0.05.ckpt\" as top 18\n"
     ]
    },
    {
     "data": {
      "application/vnd.jupyter.widget-view+json": {
       "model_id": "",
       "version_major": 2,
       "version_minor": 0
      },
      "text/plain": [
       "Validating: 0it [00:00, ?it/s]"
      ]
     },
     "metadata": {},
     "output_type": "display_data"
    },
    {
     "name": "stderr",
     "output_type": "stream",
     "text": [
      "Epoch 18, global step 311105: val_loss reached 0.04608 (best 0.04608), saving model to \"E:\\CHEERS_Challenge\\CHEERS_challenge_round_1\\logs\\RelevantModuleV02\\2021-04-19T23-12-14\\-epoch=18-val_loss=0.05.ckpt\" as top 19\n"
     ]
    },
    {
     "data": {
      "application/vnd.jupyter.widget-view+json": {
       "model_id": "",
       "version_major": 2,
       "version_minor": 0
      },
      "text/plain": [
       "Validating: 0it [00:00, ?it/s]"
      ]
     },
     "metadata": {},
     "output_type": "display_data"
    },
    {
     "name": "stderr",
     "output_type": "stream",
     "text": [
      "Epoch 19, global step 327479: val_loss reached 0.04558 (best 0.04558), saving model to \"E:\\CHEERS_Challenge\\CHEERS_challenge_round_1\\logs\\RelevantModuleV02\\2021-04-19T23-12-14\\-epoch=19-val_loss=0.05.ckpt\" as top 20\n"
     ]
    },
    {
     "data": {
      "application/vnd.jupyter.widget-view+json": {
       "model_id": "",
       "version_major": 2,
       "version_minor": 0
      },
      "text/plain": [
       "Validating: 0it [00:00, ?it/s]"
      ]
     },
     "metadata": {},
     "output_type": "display_data"
    },
    {
     "name": "stderr",
     "output_type": "stream",
     "text": [
      "Epoch 20, global step 343853: val_loss reached 0.04159 (best 0.04159), saving model to \"E:\\CHEERS_Challenge\\CHEERS_challenge_round_1\\logs\\RelevantModuleV02\\2021-04-19T23-12-14\\-epoch=20-val_loss=0.04.ckpt\" as top 21\n"
     ]
    },
    {
     "data": {
      "application/vnd.jupyter.widget-view+json": {
       "model_id": "",
       "version_major": 2,
       "version_minor": 0
      },
      "text/plain": [
       "Validating: 0it [00:00, ?it/s]"
      ]
     },
     "metadata": {},
     "output_type": "display_data"
    },
    {
     "name": "stderr",
     "output_type": "stream",
     "text": [
      "Epoch 21, global step 360227: val_loss reached 0.04091 (best 0.04091), saving model to \"E:\\CHEERS_Challenge\\CHEERS_challenge_round_1\\logs\\RelevantModuleV02\\2021-04-19T23-12-14\\-epoch=21-val_loss=0.04.ckpt\" as top 22\n"
     ]
    },
    {
     "data": {
      "application/vnd.jupyter.widget-view+json": {
       "model_id": "",
       "version_major": 2,
       "version_minor": 0
      },
      "text/plain": [
       "Validating: 0it [00:00, ?it/s]"
      ]
     },
     "metadata": {},
     "output_type": "display_data"
    },
    {
     "name": "stderr",
     "output_type": "stream",
     "text": [
      "Epoch 22, global step 376601: val_loss reached 0.04080 (best 0.04080), saving model to \"E:\\CHEERS_Challenge\\CHEERS_challenge_round_1\\logs\\RelevantModuleV02\\2021-04-19T23-12-14\\-epoch=22-val_loss=0.04.ckpt\" as top 23\n"
     ]
    },
    {
     "data": {
      "application/vnd.jupyter.widget-view+json": {
       "model_id": "ece64248e169471caa8c8d25b16f8da9",
       "version_major": 2,
       "version_minor": 0
      },
      "text/plain": [
       "Validating: 0it [00:00, ?it/s]"
      ]
     },
     "metadata": {},
     "output_type": "display_data"
    }
   ],
   "source": [
    "trainer.fit(model, train_dl, validation_dl)"
   ]
  },
  {
   "cell_type": "markdown",
   "metadata": {},
   "source": [
    "# Notes\n",
    "\n",
    "Visit: https://pytorch-lightning.readthedocs.io/en/latest/common/weights_loading.html#restoring-training-state"
   ]
  },
  {
   "cell_type": "code",
   "execution_count": null,
   "metadata": {},
   "outputs": [],
   "source": [
    "#import utils.data\n",
    "#utils.data.preprocess(\"data_round_1\")"
   ]
  },
  {
   "cell_type": "code",
   "execution_count": null,
   "metadata": {},
   "outputs": [],
   "source": []
  }
 ],
 "metadata": {
  "kernelspec": {
   "display_name": "Python 3",
   "language": "python",
   "name": "python3"
  },
  "language_info": {
   "codemirror_mode": {
    "name": "ipython",
    "version": 3
   },
   "file_extension": ".py",
   "mimetype": "text/x-python",
   "name": "python",
   "nbconvert_exporter": "python",
   "pygments_lexer": "ipython3",
   "version": "3.8.8"
  },
  "metadata": {
   "interpreter": {
    "hash": "b3ba2566441a7c06988d0923437866b63cedc61552a5af99d1f4fb67d367b25f"
   }
  }
 },
 "nbformat": 4,
 "nbformat_minor": 4
}
